{
  "nbformat": 4,
  "nbformat_minor": 0,
  "metadata": {
    "colab": {
      "name": "Untitled1.ipynb",
      "provenance": [],
      "collapsed_sections": [],
      "authorship_tag": "ABX9TyPIbxVRyWVRZyu1q4n0LGcx",
      "include_colab_link": true
    },
    "kernelspec": {
      "name": "python3",
      "display_name": "Python 3"
    }
  },
  "cells": [
    {
      "cell_type": "markdown",
      "metadata": {
        "id": "view-in-github",
        "colab_type": "text"
      },
      "source": [
        "<a href=\"https://colab.research.google.com/github/Semayatri/Emma/blob/master/Latihan%20Materi%20Netacad%20Pelatihan.ipynb\" target=\"_parent\"><img src=\"https://colab.research.google.com/assets/colab-badge.svg\" alt=\"Open In Colab\"/></a>"
      ]
    },
    {
      "cell_type": "markdown",
      "metadata": {
        "id": "-L7TSvoD8KwN",
        "colab_type": "text"
      },
      "source": [
        "**Latihan Materi Netacad**   "
      ]
    },
    {
      "cell_type": "markdown",
      "metadata": {
        "id": "bXR0_0eP8682",
        "colab_type": "text"
      },
      "source": [
        "Penggunaan Sep=\"\" pada Kalimat Untuk Membuat Spasi dalam bentuk Simbol-simbol"
      ]
    },
    {
      "cell_type": "code",
      "metadata": {
        "id": "Ful_wdqn6Cuw",
        "colab_type": "code",
        "colab": {
          "base_uri": "https://localhost:8080/",
          "height": 34
        },
        "outputId": "ad7add06-9e24-4c6c-f064-4a79d5cbe1b1"
      },
      "source": [
        "print(\"H\", \"E\", \"L\", \"L\", \"O\", sep=\"-\")"
      ],
      "execution_count": 2,
      "outputs": [
        {
          "output_type": "stream",
          "text": [
            "H-E-L-L-O\n"
          ],
          "name": "stdout"
        }
      ]
    },
    {
      "cell_type": "markdown",
      "metadata": {
        "id": "DyDk5wey9NKl",
        "colab_type": "text"
      },
      "source": [
        "Latihan float"
      ]
    },
    {
      "cell_type": "code",
      "metadata": {
        "id": "KORkyjrp8JTT",
        "colab_type": "code",
        "colab": {
          "base_uri": "https://localhost:8080/",
          "height": 34
        },
        "outputId": "d3e94ef4-465d-44d3-8b45-43d90baca910"
      },
      "source": [
        "print(0.0000000000000000000001)"
      ],
      "execution_count": 3,
      "outputs": [
        {
          "output_type": "stream",
          "text": [
            "1e-22\n"
          ],
          "name": "stdout"
        }
      ]
    }
  ]
}